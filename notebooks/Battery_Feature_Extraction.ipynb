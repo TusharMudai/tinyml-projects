{
 "cells": [
  {
   "cell_type": "code",
   "execution_count": 26,
   "id": "0a7448b8",
   "metadata": {},
   "outputs": [],
   "source": [
    "# Battery Feature Extraction Notebook\n",
    "# This notebook processes battery datasets and extracts standardized features for SoH, RUL, SoC prediction\n",
    "\n",
    "import pandas as pd\n",
    "import numpy as np\n",
    "import matplotlib.pyplot as plt\n",
    "import seaborn as sns\n",
    "from IPython.display import display, Markdown\n",
    "import os\n",
    "\n",
    "# Import our custom modules\n",
    "from battery_feature_mapper import BatteryFeatureMapper\n",
    "from data_loader import BatteryDataLoader\n",
    "\n",
    "# Setup visualization\n",
    "plt.style.use('default')\n",
    "sns.set_palette(\"husl\")\n",
    "%matplotlib inline"
   ]
  },
  {
   "cell_type": "code",
   "execution_count": 27,
   "id": "75f8a03b",
   "metadata": {},
   "outputs": [
    {
     "name": "stdout",
     "output_type": "stream",
     "text": [
      "Battery Feature Extraction System\n",
      "==================================================\n",
      "Extracted features for prediction: capacity, voltage, current, temperature, discharge_time, charge_time\n",
      "Target variables to predict later: SoH, RUL, SoC\n",
      "Note: Target variables will be calculated/predicted in the modeling phase\n"
     ]
    }
   ],
   "source": [
    "# Initialize the data loader\n",
    "loader = BatteryDataLoader()\n",
    "feature_mapper = BatteryFeatureMapper()\n",
    "\n",
    "print(\"Battery Feature Extraction System\")\n",
    "print(\"=\" * 50)\n",
    "print(\"Extracted features for prediction: capacity, voltage, current, temperature, discharge_time, charge_time\")\n",
    "print(\"Target variables to predict later: SoH, RUL, SoC\")\n",
    "print(\"Note: Target variables will be calculated/predicted in the modeling phase\")"
   ]
  },
  {
   "cell_type": "code",
   "execution_count": 28,
   "id": "da4c29a0",
   "metadata": {},
   "outputs": [
    {
     "name": "stdout",
     "output_type": "stream",
     "text": [
      "Configuration:\n",
      "Data file: your_battery_data.csv\n",
      "Prediction target: SoH (will be calculated later)\n"
     ]
    }
   ],
   "source": [
    "# Configuration cell - Modify these parameters for your dataset\n",
    "\n",
    "# File path to your battery dataset\n",
    "DATA_FILE_PATH = \"your_battery_data.csv\"  # Change this to your file path\n",
    "\n",
    "# Prediction target (for reference only - not extracted from data)\n",
    "PREDICTION_TARGET = \"SoH\"  # Change to \"SoH\", \"RUL\", or \"SoC\" based on what you want to predict\n",
    "\n",
    "# Additional parameters for data loading (if needed)\n",
    "LOAD_KWARGS = {\n",
    "    # 'sep': ',',           # For CSV files\n",
    "    # 'sheet_name': 0,      # For Excel files\n",
    "    # 'encoding': 'utf-8'   # Encoding if needed\n",
    "}\n",
    "\n",
    "print(f\"Configuration:\")\n",
    "print(f\"Data file: {DATA_FILE_PATH}\")\n",
    "print(f\"Prediction target: {PREDICTION_TARGET} (will be calculated later)\")"
   ]
  },
  {
   "cell_type": "code",
   "execution_count": null,
   "id": "171414aa",
   "metadata": {},
   "outputs": [
    {
     "name": "stdout",
     "output_type": "stream",
     "text": [
      "Error loading dataset: [Errno 2] No such file or directory: 'your_battery_data.csv'\n",
      "Please check the file path and format.\n",
      "\n",
      "Creating sample data for demonstration...\n",
      "Original dataset shape: (8, 7)\n",
      "Original columns: ['Batt_Capacity_mAh', 'Cell_Voltage_V', 'Current_A', 'Temperature_C', 'Discharge_Time_s', 'Charge_Time_min', 'Cycle_Number']\n",
      "Detected feature mapping: {'capacity': 'Batt_Capacity_mAh', 'voltage': 'Cell_Voltage_V', 'current': 'Current_A', 'temperature': 'Temperature_C', 'discharge_time': 'Discharge_Time_s', 'charge_time': 'Charge_Time_min'}\n",
      "Processed dataset shape: (8, 6)\n",
      "Available features: ['capacity', 'voltage', 'current', 'temperature', 'discharge_time', 'charge_time']\n"
     ]
    }
   ],
   "source": [
    "# Load and process the dataset\n",
    "try:\n",
    "    results = loader.process_dataset(\n",
    "        file_path=DATA_FILE_PATH,\n",
    "        **LOAD_KWARGS\n",
    "    )\n",
    "    \n",
    "    raw_df = results['raw_data']\n",
    "    processed_df = results['processed_data']\n",
    "    feature_mapping = results['feature_mapping']\n",
    "    available_features = results['available_features']\n",
    "    \n",
    "    # Handle missing values\n",
    "    MISSING_VALUE_STRATEGY = \"mean\"  # Options: 'mean', 'median', 'drop', 'forward_fill'\n",
    "    processed_df = feature_mapper.handle_missing_values(processed_df, strategy=MISSING_VALUE_STRATEGY)\n",
    "    \n",
    "except Exception as e:\n",
    "    print(f\"Error loading dataset: {e}\")\n",
    "    print(\"Please check the file path and format.\")\n",
    "    \n",
    "    # Example with sample data for demonstration\n",
    "    print(\"\\nCreating sample data for demonstration...\")\n",
    "    sample_data = {\n",
    "        'Batt_Capacity_mAh': [3000, 2950, 2900, 2850, 2800, 2750, 2700, 2650],\n",
    "        'Cell_Voltage_V': [3.7, 3.68, 3.65, 3.62, 3.58, 3.55, 3.52, 3.48],\n",
    "        'Current_A': [1.5, 1.48, 1.45, 1.43, 1.40, 1.38, 1.35, 1.32],\n",
    "        'Temperature_C': [25, 25.5, 26, 26.5, 27, 27.5, 28, 28.5],\n",
    "        'Discharge_Time_s': [7200, 7150, 7100, 7050, 7000, 6950, 6900, 6850],\n",
    "        'Charge_Time_min': [120, 119, 118, 117, 116, 115, 114, 113],\n",
    "        'Cycle_Number': [1, 2, 3, 4, 5, 6, 7, 8]  # Common in battery datasets for degradation tracking\n",
    "    }\n",
    "    raw_df = pd.DataFrame(sample_data)\n",
    "    results = loader.process_dataset_from_df(raw_df)\n",
    "    processed_df = results['processed_data']\n",
    "    feature_mapping = results['feature_mapping']\n",
    "    available_features = results['available_features']\n",
    "    \n",
    "    # Handle missing values for sample data too\n",
    "    processed_df = feature_mapper.handle_missing_values(processed_df, strategy=MISSING_VALUE_STRATEGY)"
   ]
  },
  {
   "cell_type": "code",
   "execution_count": 30,
   "id": "15f1b460",
   "metadata": {},
   "outputs": [
    {
     "data": {
      "text/markdown": [
       "## Dataset Overview"
      ],
      "text/plain": [
       "<IPython.core.display.Markdown object>"
      ]
     },
     "metadata": {},
     "output_type": "display_data"
    },
    {
     "data": {
      "text/markdown": [
       "### Original Data"
      ],
      "text/plain": [
       "<IPython.core.display.Markdown object>"
      ]
     },
     "metadata": {},
     "output_type": "display_data"
    },
    {
     "name": "stdout",
     "output_type": "stream",
     "text": [
      "Original data shape: (8, 7)\n"
     ]
    },
    {
     "data": {
      "text/html": [
       "<div>\n",
       "<style scoped>\n",
       "    .dataframe tbody tr th:only-of-type {\n",
       "        vertical-align: middle;\n",
       "    }\n",
       "\n",
       "    .dataframe tbody tr th {\n",
       "        vertical-align: top;\n",
       "    }\n",
       "\n",
       "    .dataframe thead th {\n",
       "        text-align: right;\n",
       "    }\n",
       "</style>\n",
       "<table border=\"1\" class=\"dataframe\">\n",
       "  <thead>\n",
       "    <tr style=\"text-align: right;\">\n",
       "      <th></th>\n",
       "      <th>Batt_Capacity_mAh</th>\n",
       "      <th>Cell_Voltage_V</th>\n",
       "      <th>Current_A</th>\n",
       "      <th>Temperature_C</th>\n",
       "      <th>Discharge_Time_s</th>\n",
       "      <th>Charge_Time_min</th>\n",
       "      <th>Cycle_Number</th>\n",
       "    </tr>\n",
       "  </thead>\n",
       "  <tbody>\n",
       "    <tr>\n",
       "      <th>0</th>\n",
       "      <td>3000</td>\n",
       "      <td>3.70</td>\n",
       "      <td>1.50</td>\n",
       "      <td>25.0</td>\n",
       "      <td>7200</td>\n",
       "      <td>120</td>\n",
       "      <td>1</td>\n",
       "    </tr>\n",
       "    <tr>\n",
       "      <th>1</th>\n",
       "      <td>2950</td>\n",
       "      <td>3.68</td>\n",
       "      <td>1.48</td>\n",
       "      <td>25.5</td>\n",
       "      <td>7150</td>\n",
       "      <td>119</td>\n",
       "      <td>2</td>\n",
       "    </tr>\n",
       "    <tr>\n",
       "      <th>2</th>\n",
       "      <td>2900</td>\n",
       "      <td>3.65</td>\n",
       "      <td>1.45</td>\n",
       "      <td>26.0</td>\n",
       "      <td>7100</td>\n",
       "      <td>118</td>\n",
       "      <td>3</td>\n",
       "    </tr>\n",
       "    <tr>\n",
       "      <th>3</th>\n",
       "      <td>2850</td>\n",
       "      <td>3.62</td>\n",
       "      <td>1.43</td>\n",
       "      <td>26.5</td>\n",
       "      <td>7050</td>\n",
       "      <td>117</td>\n",
       "      <td>4</td>\n",
       "    </tr>\n",
       "    <tr>\n",
       "      <th>4</th>\n",
       "      <td>2800</td>\n",
       "      <td>3.58</td>\n",
       "      <td>1.40</td>\n",
       "      <td>27.0</td>\n",
       "      <td>7000</td>\n",
       "      <td>116</td>\n",
       "      <td>5</td>\n",
       "    </tr>\n",
       "  </tbody>\n",
       "</table>\n",
       "</div>"
      ],
      "text/plain": [
       "   Batt_Capacity_mAh  Cell_Voltage_V  Current_A  Temperature_C  \\\n",
       "0               3000            3.70       1.50           25.0   \n",
       "1               2950            3.68       1.48           25.5   \n",
       "2               2900            3.65       1.45           26.0   \n",
       "3               2850            3.62       1.43           26.5   \n",
       "4               2800            3.58       1.40           27.0   \n",
       "\n",
       "   Discharge_Time_s  Charge_Time_min  Cycle_Number  \n",
       "0              7200              120             1  \n",
       "1              7150              119             2  \n",
       "2              7100              118             3  \n",
       "3              7050              117             4  \n",
       "4              7000              116             5  "
      ]
     },
     "metadata": {},
     "output_type": "display_data"
    },
    {
     "data": {
      "text/markdown": [
       "### Processed Data with Standardized Features"
      ],
      "text/plain": [
       "<IPython.core.display.Markdown object>"
      ]
     },
     "metadata": {},
     "output_type": "display_data"
    },
    {
     "name": "stdout",
     "output_type": "stream",
     "text": [
      "Processed data shape: (8, 6)\n",
      "Note: These features will be used to predict the target variable\n"
     ]
    },
    {
     "data": {
      "text/html": [
       "<div>\n",
       "<style scoped>\n",
       "    .dataframe tbody tr th:only-of-type {\n",
       "        vertical-align: middle;\n",
       "    }\n",
       "\n",
       "    .dataframe tbody tr th {\n",
       "        vertical-align: top;\n",
       "    }\n",
       "\n",
       "    .dataframe thead th {\n",
       "        text-align: right;\n",
       "    }\n",
       "</style>\n",
       "<table border=\"1\" class=\"dataframe\">\n",
       "  <thead>\n",
       "    <tr style=\"text-align: right;\">\n",
       "      <th></th>\n",
       "      <th>capacity</th>\n",
       "      <th>voltage</th>\n",
       "      <th>current</th>\n",
       "      <th>temperature</th>\n",
       "      <th>discharge_time</th>\n",
       "      <th>charge_time</th>\n",
       "    </tr>\n",
       "  </thead>\n",
       "  <tbody>\n",
       "    <tr>\n",
       "      <th>0</th>\n",
       "      <td>3000</td>\n",
       "      <td>3.70</td>\n",
       "      <td>1.50</td>\n",
       "      <td>25.0</td>\n",
       "      <td>7200</td>\n",
       "      <td>120</td>\n",
       "    </tr>\n",
       "    <tr>\n",
       "      <th>1</th>\n",
       "      <td>2950</td>\n",
       "      <td>3.68</td>\n",
       "      <td>1.48</td>\n",
       "      <td>25.5</td>\n",
       "      <td>7150</td>\n",
       "      <td>119</td>\n",
       "    </tr>\n",
       "    <tr>\n",
       "      <th>2</th>\n",
       "      <td>2900</td>\n",
       "      <td>3.65</td>\n",
       "      <td>1.45</td>\n",
       "      <td>26.0</td>\n",
       "      <td>7100</td>\n",
       "      <td>118</td>\n",
       "    </tr>\n",
       "    <tr>\n",
       "      <th>3</th>\n",
       "      <td>2850</td>\n",
       "      <td>3.62</td>\n",
       "      <td>1.43</td>\n",
       "      <td>26.5</td>\n",
       "      <td>7050</td>\n",
       "      <td>117</td>\n",
       "    </tr>\n",
       "    <tr>\n",
       "      <th>4</th>\n",
       "      <td>2800</td>\n",
       "      <td>3.58</td>\n",
       "      <td>1.40</td>\n",
       "      <td>27.0</td>\n",
       "      <td>7000</td>\n",
       "      <td>116</td>\n",
       "    </tr>\n",
       "  </tbody>\n",
       "</table>\n",
       "</div>"
      ],
      "text/plain": [
       "   capacity  voltage  current  temperature  discharge_time  charge_time\n",
       "0      3000     3.70     1.50         25.0            7200          120\n",
       "1      2950     3.68     1.48         25.5            7150          119\n",
       "2      2900     3.65     1.45         26.0            7100          118\n",
       "3      2850     3.62     1.43         26.5            7050          117\n",
       "4      2800     3.58     1.40         27.0            7000          116"
      ]
     },
     "metadata": {},
     "output_type": "display_data"
    },
    {
     "data": {
      "text/markdown": [
       "### Feature Mapping"
      ],
      "text/plain": [
       "<IPython.core.display.Markdown object>"
      ]
     },
     "metadata": {},
     "output_type": "display_data"
    },
    {
     "name": "stdout",
     "output_type": "stream",
     "text": [
      "capacity        -> Batt_Capacity_mAh\n",
      "voltage         -> Cell_Voltage_V\n",
      "current         -> Current_A\n",
      "temperature     -> Temperature_C\n",
      "discharge_time  -> Discharge_Time_s\n",
      "charge_time     -> Charge_Time_min\n"
     ]
    },
    {
     "data": {
      "text/markdown": [
       "### Available Features for Prediction"
      ],
      "text/plain": [
       "<IPython.core.display.Markdown object>"
      ]
     },
     "metadata": {},
     "output_type": "display_data"
    },
    {
     "name": "stdout",
     "output_type": "stream",
     "text": [
      "Total input features: 6\n",
      "Features: ['capacity', 'voltage', 'current', 'temperature', 'discharge_time', 'charge_time']\n"
     ]
    }
   ],
   "source": [
    "# Display dataset information\n",
    "display(Markdown(\"## Dataset Overview\"))\n",
    "\n",
    "display(Markdown(\"### Original Data\"))\n",
    "print(f\"Original data shape: {raw_df.shape}\")\n",
    "display(raw_df.head())\n",
    "\n",
    "display(Markdown(\"### Processed Data with Standardized Features\"))\n",
    "print(f\"Processed data shape: {processed_df.shape}\")\n",
    "print(\"Note: These features will be used to predict the target variable\")\n",
    "display(processed_df.head())\n",
    "\n",
    "display(Markdown(\"### Feature Mapping\"))\n",
    "for standard_feature, original_column in feature_mapping.items():\n",
    "    print(f\"{standard_feature:15} -> {original_column}\")\n",
    "\n",
    "display(Markdown(\"### Available Features for Prediction\"))\n",
    "print(f\"Total input features: {len(available_features)}\")\n",
    "print(f\"Features: {available_features}\")"
   ]
  },
  {
   "cell_type": "code",
   "execution_count": 31,
   "id": "813f8bdb",
   "metadata": {},
   "outputs": [
    {
     "data": {
      "text/markdown": [
       "## Data Quality Analysis"
      ],
      "text/plain": [
       "<IPython.core.display.Markdown object>"
      ]
     },
     "metadata": {},
     "output_type": "display_data"
    },
    {
     "data": {
      "text/markdown": [
       "### Missing Values"
      ],
      "text/plain": [
       "<IPython.core.display.Markdown object>"
      ]
     },
     "metadata": {},
     "output_type": "display_data"
    },
    {
     "data": {
      "text/html": [
       "<div>\n",
       "<style scoped>\n",
       "    .dataframe tbody tr th:only-of-type {\n",
       "        vertical-align: middle;\n",
       "    }\n",
       "\n",
       "    .dataframe tbody tr th {\n",
       "        vertical-align: top;\n",
       "    }\n",
       "\n",
       "    .dataframe thead th {\n",
       "        text-align: right;\n",
       "    }\n",
       "</style>\n",
       "<table border=\"1\" class=\"dataframe\">\n",
       "  <thead>\n",
       "    <tr style=\"text-align: right;\">\n",
       "      <th></th>\n",
       "      <th>Feature</th>\n",
       "      <th>Missing Count</th>\n",
       "      <th>Missing Percentage</th>\n",
       "    </tr>\n",
       "  </thead>\n",
       "  <tbody>\n",
       "  </tbody>\n",
       "</table>\n",
       "</div>"
      ],
      "text/plain": [
       "Empty DataFrame\n",
       "Columns: [Feature, Missing Count, Missing Percentage]\n",
       "Index: []"
      ]
     },
     "metadata": {},
     "output_type": "display_data"
    },
    {
     "data": {
      "text/markdown": [
       "**Good:** No missing values found."
      ],
      "text/plain": [
       "<IPython.core.display.Markdown object>"
      ]
     },
     "metadata": {},
     "output_type": "display_data"
    }
   ],
   "source": [
    "# Data Quality Check\n",
    "display(Markdown(\"## Data Quality Analysis\"))\n",
    "\n",
    "display(Markdown(\"### Missing Values\"))\n",
    "missing_data = processed_df.isnull().sum()\n",
    "missing_percent = (missing_data / len(processed_df)) * 100\n",
    "\n",
    "missing_info = pd.DataFrame({\n",
    "    'Feature': missing_data.index,\n",
    "    'Missing Count': missing_data.values,\n",
    "    'Missing Percentage': missing_percent.values\n",
    "})\n",
    "display(missing_info[missing_info['Missing Count'] > 0])\n",
    "\n",
    "if missing_data.sum() > 0:\n",
    "    display(Markdown(\"**Note:** Consider handling missing values before model training.\"))\n",
    "else:\n",
    "    display(Markdown(\"**Good:** No missing values found.\"))"
   ]
  },
  {
   "cell_type": "code",
   "execution_count": 32,
   "id": "9eb22d5a",
   "metadata": {},
   "outputs": [
    {
     "data": {
      "text/markdown": [
       "## Basic Statistics of Input Features"
      ],
      "text/plain": [
       "<IPython.core.display.Markdown object>"
      ]
     },
     "metadata": {},
     "output_type": "display_data"
    },
    {
     "data": {
      "text/html": [
       "<div>\n",
       "<style scoped>\n",
       "    .dataframe tbody tr th:only-of-type {\n",
       "        vertical-align: middle;\n",
       "    }\n",
       "\n",
       "    .dataframe tbody tr th {\n",
       "        vertical-align: top;\n",
       "    }\n",
       "\n",
       "    .dataframe thead th {\n",
       "        text-align: right;\n",
       "    }\n",
       "</style>\n",
       "<table border=\"1\" class=\"dataframe\">\n",
       "  <thead>\n",
       "    <tr style=\"text-align: right;\">\n",
       "      <th></th>\n",
       "      <th>capacity</th>\n",
       "      <th>voltage</th>\n",
       "      <th>current</th>\n",
       "      <th>temperature</th>\n",
       "      <th>discharge_time</th>\n",
       "      <th>charge_time</th>\n",
       "    </tr>\n",
       "  </thead>\n",
       "  <tbody>\n",
       "    <tr>\n",
       "      <th>count</th>\n",
       "      <td>8.000000</td>\n",
       "      <td>8.000000</td>\n",
       "      <td>8.000000</td>\n",
       "      <td>8.000000</td>\n",
       "      <td>8.000000</td>\n",
       "      <td>8.00000</td>\n",
       "    </tr>\n",
       "    <tr>\n",
       "      <th>mean</th>\n",
       "      <td>2825.000000</td>\n",
       "      <td>3.597500</td>\n",
       "      <td>1.413750</td>\n",
       "      <td>26.750000</td>\n",
       "      <td>7025.000000</td>\n",
       "      <td>116.50000</td>\n",
       "    </tr>\n",
       "    <tr>\n",
       "      <th>std</th>\n",
       "      <td>122.474487</td>\n",
       "      <td>0.078331</td>\n",
       "      <td>0.062778</td>\n",
       "      <td>1.224745</td>\n",
       "      <td>122.474487</td>\n",
       "      <td>2.44949</td>\n",
       "    </tr>\n",
       "    <tr>\n",
       "      <th>min</th>\n",
       "      <td>2650.000000</td>\n",
       "      <td>3.480000</td>\n",
       "      <td>1.320000</td>\n",
       "      <td>25.000000</td>\n",
       "      <td>6850.000000</td>\n",
       "      <td>113.00000</td>\n",
       "    </tr>\n",
       "    <tr>\n",
       "      <th>25%</th>\n",
       "      <td>2737.500000</td>\n",
       "      <td>3.542500</td>\n",
       "      <td>1.372500</td>\n",
       "      <td>25.875000</td>\n",
       "      <td>6937.500000</td>\n",
       "      <td>114.75000</td>\n",
       "    </tr>\n",
       "    <tr>\n",
       "      <th>50%</th>\n",
       "      <td>2825.000000</td>\n",
       "      <td>3.600000</td>\n",
       "      <td>1.415000</td>\n",
       "      <td>26.750000</td>\n",
       "      <td>7025.000000</td>\n",
       "      <td>116.50000</td>\n",
       "    </tr>\n",
       "    <tr>\n",
       "      <th>75%</th>\n",
       "      <td>2912.500000</td>\n",
       "      <td>3.657500</td>\n",
       "      <td>1.457500</td>\n",
       "      <td>27.625000</td>\n",
       "      <td>7112.500000</td>\n",
       "      <td>118.25000</td>\n",
       "    </tr>\n",
       "    <tr>\n",
       "      <th>max</th>\n",
       "      <td>3000.000000</td>\n",
       "      <td>3.700000</td>\n",
       "      <td>1.500000</td>\n",
       "      <td>28.500000</td>\n",
       "      <td>7200.000000</td>\n",
       "      <td>120.00000</td>\n",
       "    </tr>\n",
       "  </tbody>\n",
       "</table>\n",
       "</div>"
      ],
      "text/plain": [
       "          capacity   voltage   current  temperature  discharge_time  \\\n",
       "count     8.000000  8.000000  8.000000     8.000000        8.000000   \n",
       "mean   2825.000000  3.597500  1.413750    26.750000     7025.000000   \n",
       "std     122.474487  0.078331  0.062778     1.224745      122.474487   \n",
       "min    2650.000000  3.480000  1.320000    25.000000     6850.000000   \n",
       "25%    2737.500000  3.542500  1.372500    25.875000     6937.500000   \n",
       "50%    2825.000000  3.600000  1.415000    26.750000     7025.000000   \n",
       "75%    2912.500000  3.657500  1.457500    27.625000     7112.500000   \n",
       "max    3000.000000  3.700000  1.500000    28.500000     7200.000000   \n",
       "\n",
       "       charge_time  \n",
       "count      8.00000  \n",
       "mean     116.50000  \n",
       "std        2.44949  \n",
       "min      113.00000  \n",
       "25%      114.75000  \n",
       "50%      116.50000  \n",
       "75%      118.25000  \n",
       "max      120.00000  "
      ]
     },
     "metadata": {},
     "output_type": "display_data"
    }
   ],
   "source": [
    "# Basic Statistics\n",
    "display(Markdown(\"## Basic Statistics of Input Features\"))\n",
    "\n",
    "display(processed_df.describe())"
   ]
  },
  {
   "cell_type": "code",
   "execution_count": 33,
   "id": "1d5f3076",
   "metadata": {},
   "outputs": [
    {
     "data": {
      "text/markdown": [
       "## Feature Distributions"
      ],
      "text/plain": [
       "<IPython.core.display.Markdown object>"
      ]
     },
     "metadata": {},
     "output_type": "display_data"
    },
    {
     "data": {
      "image/png": "[encoded data removed]",
      "text/plain": [
       "<Figure size 1500x1500 with 6 Axes>"
      ]
     },
     "metadata": {},
     "output_type": "display_data"
    }
   ],
   "source": [
    "# Feature Distributions\n",
    "display(Markdown(\"## Feature Distributions\"))\n",
    "\n",
    "if len(processed_df.columns) > 0:\n",
    "    numerical_features = processed_df.select_dtypes(include=[np.number]).columns\n",
    "    \n",
    "    if len(numerical_features) > 0:\n",
    "        n_cols = 2\n",
    "        n_rows = (len(numerical_features) + n_cols - 1) // n_cols\n",
    "        \n",
    "        fig, axes = plt.subplots(n_rows, n_cols, figsize=(15, 5*n_rows))\n",
    "        if n_rows == 1:\n",
    "            axes = [axes] if n_cols == 1 else axes\n",
    "        else:\n",
    "            axes = axes.flatten()\n",
    "        \n",
    "        for i, feature in enumerate(numerical_features):\n",
    "            if i < len(axes):\n",
    "                processed_df[feature].hist(bins=20, ax=axes[i], alpha=0.7, color='skyblue')\n",
    "                axes[i].set_title(f'Distribution of {feature}')\n",
    "                axes[i].set_xlabel(feature)\n",
    "                axes[i].set_ylabel('Frequency')\n",
    "        \n",
    "        # Hide empty subplots\n",
    "        for i in range(len(numerical_features), len(axes)):\n",
    "            axes[i].set_visible(False)\n",
    "        \n",
    "        plt.tight_layout()\n",
    "        plt.show()\n",
    "    else:\n",
    "        print(\"No numerical features to plot.\")\n",
    "else:\n",
    "    print(\"No features available for visualization.\")"
   ]
  },
  {
   "cell_type": "code",
   "execution_count": 34,
   "id": "a276287d",
   "metadata": {},
   "outputs": [
    {
     "data": {
      "text/markdown": [
       "## Feature Correlations"
      ],
      "text/plain": [
       "<IPython.core.display.Markdown object>"
      ]
     },
     "metadata": {},
     "output_type": "display_data"
    },
    {
     "data": {
      "image/png": "[encoded data removed]",
      "text/plain": [
       "<Figure size 1000x800 with 2 Axes>"
      ]
     },
     "metadata": {},
     "output_type": "display_data"
    },
    {
     "data": {
      "text/markdown": [
       "### Strong Correlations (|r| > 0.7)"
      ],
      "text/plain": [
       "<IPython.core.display.Markdown object>"
      ]
     },
     "metadata": {},
     "output_type": "display_data"
    },
    {
     "name": "stdout",
     "output_type": "stream",
     "text": [
      "capacity - voltage: 0.998\n",
      "capacity - current: 0.999\n",
      "capacity - temperature: -1.000\n",
      "capacity - discharge_time: 1.000\n",
      "capacity - charge_time: 1.000\n",
      "voltage - current: 0.999\n",
      "voltage - temperature: -0.998\n",
      "voltage - discharge_time: 0.998\n",
      "voltage - charge_time: 0.998\n",
      "current - temperature: -0.999\n",
      "current - discharge_time: 0.999\n",
      "current - charge_time: 0.999\n",
      "temperature - discharge_time: -1.000\n",
      "temperature - charge_time: -1.000\n",
      "discharge_time - charge_time: 1.000\n"
     ]
    }
   ],
   "source": [
    "# Correlation Analysis\n",
    "display(Markdown(\"## Feature Correlations\"))\n",
    "\n",
    "if len(processed_df.select_dtypes(include=[np.number]).columns) > 1:\n",
    "    corr_matrix = processed_df.corr()\n",
    "    \n",
    "    plt.figure(figsize=(10, 8))\n",
    "    mask = np.triu(np.ones_like(corr_matrix, dtype=bool))  # Mask upper triangle\n",
    "    sns.heatmap(corr_matrix, annot=True, cmap='coolwarm', center=0,\n",
    "                square=True, fmt='.2f', mask=mask)\n",
    "    plt.title('Input Features Correlation Matrix')\n",
    "    plt.tight_layout()\n",
    "    plt.show()\n",
    "    \n",
    "    # Display strong correlations\n",
    "    display(Markdown(\"### Strong Correlations (|r| > 0.7)\"))\n",
    "    high_corr_pairs = []\n",
    "    \n",
    "    for i in range(len(corr_matrix.columns)):\n",
    "        for j in range(i+1, len(corr_matrix.columns)):\n",
    "            corr_value = corr_matrix.iloc[i, j]\n",
    "            if abs(corr_value) > 0.7:\n",
    "                high_corr_pairs.append((\n",
    "                    corr_matrix.columns[i],\n",
    "                    corr_matrix.columns[j],\n",
    "                    corr_value\n",
    "                ))\n",
    "    \n",
    "    if high_corr_pairs:\n",
    "        for feat1, feat2, corr in high_corr_pairs:\n",
    "            print(f\"{feat1} - {feat2}: {corr:.3f}\")\n",
    "    else:\n",
    "        print(\"No strong correlations found.\")\n",
    "else:\n",
    "    print(\"Not enough numerical features for correlation analysis.\")"
   ]
  },
  {
   "cell_type": "code",
   "execution_count": 35,
   "id": "9e42f422",
   "metadata": {},
   "outputs": [
    {
     "data": {
      "text/markdown": [
       "## Feature Engineering Suggestions"
      ],
      "text/plain": [
       "<IPython.core.display.Markdown object>"
      ]
     },
     "metadata": {},
     "output_type": "display_data"
    },
    {
     "data": {
      "text/markdown": [
       "### Potential Derived Features for Battery Analytics"
      ],
      "text/plain": [
       "<IPython.core.display.Markdown object>"
      ]
     },
     "metadata": {},
     "output_type": "display_data"
    }
   ],
   "source": [
    "# Feature Engineering Suggestions\n",
    "display(Markdown(\"## Feature Engineering Suggestions\"))\n",
    "\n",
    "display(Markdown(\"### Potential Derived Features for Battery Analytics\"))\n",
    "\n",
    "suggestions = {\n",
    "    'SoH Prediction': [\n",
    "        \"Capacity fade rate (derivative of capacity over cycles)\",\n",
    "        \"Internal resistance (estimated from voltage drop under load)\",\n",
    "        \"Coulombic efficiency (charge discharged / charge charged)\",\n",
    "        \"Voltage curve characteristics during charge/discharge\"\n",
    "    ],\n",
    "    'RUL Prediction': [\n",
    "        \"Cycle count or time-based features\",\n",
    "        \"Degradation trends (slopes of key parameters)\",\n",
    "        \"Rate of capacity fade acceleration\",\n",
    "        \"Historical performance metrics\"\n",
    "    ],\n",
    "    'SoC Estimation': [\n",
    "        \"Open Circuit Voltage (OCV) relationships\",\n",
    "        \"Coulomb counting (integration of current over time)\",\n",
    "        \"Voltage relaxation characteristics\",\n",
    "        \"Temperature-compensated voltage readings\"\n",
    "    ]\n",
    "}\n",
    "\n",
    "if PREDICTION_TARGET in suggestions:\n",
    "    display(Markdown(f\"**For {PREDICTION_TARGET} prediction, consider:**\"))\n",
    "    for suggestion in suggestions[PREDICTION_TARGET]:\n",
    "        print(f\"• {suggestion}\")"
   ]
  },
  {
   "cell_type": "code",
   "execution_count": 36,
   "id": "6f21f530",
   "metadata": {},
   "outputs": [
    {
     "data": {
      "text/markdown": [
       "## Export Processed Data"
      ],
      "text/plain": [
       "<IPython.core.display.Markdown object>"
      ]
     },
     "metadata": {},
     "output_type": "display_data"
    },
    {
     "name": "stdout",
     "output_type": "stream",
     "text": [
      "Processed features saved to: battery_features_processed.csv\n",
      "Feature mapping saved to: feature_mapping.csv\n",
      "Extraction configuration saved to: extraction_config.csv\n"
     ]
    }
   ],
   "source": [
    "# Save Processed Data\n",
    "display(Markdown(\"## Export Processed Data\"))\n",
    "\n",
    "output_filename = \"battery_features_processed.csv\"\n",
    "try:\n",
    "    processed_df.to_csv(output_filename, index=False)\n",
    "    print(f\"Processed features saved to: {output_filename}\")\n",
    "    \n",
    "    # Also save the feature mapping\n",
    "    mapping_df = pd.DataFrame(list(feature_mapping.items()), \n",
    "                             columns=['Standard_Feature', 'Original_Column'])\n",
    "    mapping_df.to_csv(\"feature_mapping.csv\", index=False)\n",
    "    print(\"Feature mapping saved to: feature_mapping.csv\")\n",
    "    \n",
    "    # Save configuration\n",
    "    config_info = {\n",
    "        'prediction_target': PREDICTION_TARGET,\n",
    "        'original_file': DATA_FILE_PATH,\n",
    "        'extraction_date': pd.Timestamp.now().strftime('%Y-%m-%d %H:%M:%S'),\n",
    "        'features_extracted': list(processed_df.columns)\n",
    "    }\n",
    "    config_df = pd.DataFrame([config_info])\n",
    "    config_df.to_csv(\"extraction_config.csv\", index=False)\n",
    "    print(\"Extraction configuration saved to: extraction_config.csv\")\n",
    "    \n",
    "except Exception as e:\n",
    "    print(f\"Error saving files: {e}\")"
   ]
  },
  {
   "cell_type": "code",
   "execution_count": 37,
   "id": "2d318762",
   "metadata": {},
   "outputs": [
    {
     "data": {
      "text/markdown": [
       "## Next Steps for Model Development"
      ],
      "text/plain": [
       "<IPython.core.display.Markdown object>"
      ]
     },
     "metadata": {},
     "output_type": "display_data"
    },
    {
     "data": {
      "text/markdown": [
       "### For SoH Prediction:"
      ],
      "text/plain": [
       "<IPython.core.display.Markdown object>"
      ]
     },
     "metadata": {},
     "output_type": "display_data"
    },
    {
     "name": "stdout",
     "output_type": "stream",
     "text": [
      "1. Calculate SoH from capacity measurements: SoH = (Current Capacity / Initial Capacity) × 100%\n",
      "2. Use cycle data to track degradation patterns\n",
      "3. Consider voltage and temperature patterns during operation\n"
     ]
    },
    {
     "data": {
      "text/markdown": [
       "### General Modeling Steps:"
      ],
      "text/plain": [
       "<IPython.core.display.Markdown object>"
      ]
     },
     "metadata": {},
     "output_type": "display_data"
    },
    {
     "name": "stdout",
     "output_type": "stream",
     "text": [
      "1. Calculate target variable using appropriate methods\n",
      "2. Split data into training and testing sets\n",
      "3. Perform feature scaling/normalization\n",
      "4. Train machine learning models (Regression for SoH/RUL, Classification/Regression for SoC)\n",
      "5. Validate model performance using cross-validation\n",
      "6. Deploy the trained model for predictions\n"
     ]
    }
   ],
   "source": [
    "# Next Steps Preparation\n",
    "display(Markdown(\"## Next Steps for Model Development\"))\n",
    "\n",
    "display(Markdown(\"### For {} Prediction:\".format(PREDICTION_TARGET)))\n",
    "\n",
    "next_steps = {\n",
    "    'SoH': [\n",
    "        \"Calculate SoH from capacity measurements: SoH = (Current Capacity / Initial Capacity) × 100%\",\n",
    "        \"Use cycle data to track degradation patterns\",\n",
    "        \"Consider voltage and temperature patterns during operation\"\n",
    "    ],\n",
    "    'RUL': [\n",
    "        \"Define EOL (End of Life) criteria (e.g., 80% of initial capacity)\",\n",
    "        \"Track degradation trajectory over cycles/time\",\n",
    "        \"Use historical data to build degradation models\"\n",
    "    ],\n",
    "    'SoC': [\n",
    "        \"Implement coulomb counting with calibration points\",\n",
    "        \"Use OCV-SoC relationships if available\",\n",
    "        \"Consider temperature and aging effects on SoC estimation\"\n",
    "    ]\n",
    "}\n",
    "\n",
    "if PREDICTION_TARGET in next_steps:\n",
    "    for i, step in enumerate(next_steps[PREDICTION_TARGET], 1):\n",
    "        print(f\"{i}. {step}\")\n",
    "\n",
    "display(Markdown(\"### General Modeling Steps:\"))\n",
    "general_steps = [\n",
    "    \"Calculate target variable using appropriate methods\",\n",
    "    \"Split data into training and testing sets\",\n",
    "    \"Perform feature scaling/normalization\",\n",
    "    \"Train machine learning models (Regression for SoH/RUL, Classification/Regression for SoC)\",\n",
    "    \"Validate model performance using cross-validation\",\n",
    "    \"Deploy the trained model for predictions\"\n",
    "]\n",
    "\n",
    "for i, step in enumerate(general_steps, 1):\n",
    "    print(f\"{i}. {step}\")"
   ]
  },
  {
   "cell_type": "code",
   "execution_count": 38,
   "id": "2282cceb",
   "metadata": {},
   "outputs": [
    {
     "data": {
      "text/markdown": [
       "## Processing Summary"
      ],
      "text/plain": [
       "<IPython.core.display.Markdown object>"
      ]
     },
     "metadata": {},
     "output_type": "display_data"
    },
    {
     "name": "stdout",
     "output_type": "stream",
     "text": [
      "============================================================\n",
      "BATTERY FEATURE EXTRACTION SUMMARY\n",
      "============================================================\n",
      "Original dataset dimensions: (8, 7)\n",
      "Processed features dimensions: (8, 6)\n",
      "Prediction target: SoH\n",
      "\n",
      "Input Features Extracted:\n",
      "  ✓ capacity        -> Batt_Capacity_mAh\n",
      "  ✓ voltage         -> Cell_Voltage_V\n",
      "  ✓ current         -> Current_A\n",
      "  ✓ temperature     -> Temperature_C\n",
      "  ✓ discharge_time  -> Discharge_Time_s\n",
      "  ✓ charge_time     -> Charge_Time_min\n",
      "\n",
      "Data Quality:\n",
      "  Total samples: 8\n",
      "  Missing values: 0\n",
      "\n",
      "Next Phase - SoH Prediction:\n",
      "  1. Calculate target variable using domain knowledge\n",
      "  2. Perform feature engineering based on battery physics\n",
      "  3. Train machine learning models\n",
      "  4. Validate and deploy the prediction system\n",
      "\n",
      "Files generated:\n",
      "  - battery_features_processed.csv: Cleaned feature data\n",
      "  - feature_mapping.csv: Mapping of original to standard names\n",
      "  - extraction_config.csv: Processing configuration\n"
     ]
    }
   ],
   "source": [
    "# Summary Report\n",
    "display(Markdown(\"## Processing Summary\"))\n",
    "\n",
    "print(f\"{'='*60}\")\n",
    "print(\"BATTERY FEATURE EXTRACTION SUMMARY\")\n",
    "print(f\"{'='*60}\")\n",
    "print(f\"Original dataset dimensions: {raw_df.shape}\")\n",
    "print(f\"Processed features dimensions: {processed_df.shape}\")\n",
    "print(f\"Prediction target: {PREDICTION_TARGET}\")\n",
    "\n",
    "print(f\"\\nInput Features Extracted:\")\n",
    "for feature in feature_mapper.standard_features:\n",
    "    status = \"✓\" if feature in processed_df.columns else \"✗\"\n",
    "    original_name = feature_mapping.get(feature, \"Not found\")\n",
    "    print(f\"  {status} {feature:15} -> {original_name}\")\n",
    "\n",
    "print(f\"\\nData Quality:\")\n",
    "print(f\"  Total samples: {len(processed_df)}\")\n",
    "print(f\"  Missing values: {processed_df.isnull().sum().sum()}\")\n",
    "\n",
    "print(f\"\\nNext Phase - {PREDICTION_TARGET} Prediction:\")\n",
    "print(\"  1. Calculate target variable using domain knowledge\")\n",
    "print(\"  2. Perform feature engineering based on battery physics\")\n",
    "print(\"  3. Train machine learning models\")\n",
    "print(\"  4. Validate and deploy the prediction system\")\n",
    "\n",
    "print(f\"\\nFiles generated:\")\n",
    "print(\"  - battery_features_processed.csv: Cleaned feature data\")\n",
    "print(\"  - feature_mapping.csv: Mapping of original to standard names\")\n",
    "print(\"  - extraction_config.csv: Processing configuration\")"
   ]
  },
  {
   "cell_type": "code",
   "execution_count": null,
   "id": "f582abca",
   "metadata": {},
   "outputs": [],
   "source": []
  },
  {
   "cell_type": "code",
   "execution_count": null,
   "id": "76c69a74",
   "metadata": {},
   "outputs": [],
   "source": []
  },
  {
   "cell_type": "code",
   "execution_count": null,
   "id": "9af22d31",
   "metadata": {},
   "outputs": [],
   "source": []
  },
  {
   "cell_type": "code",
   "execution_count": null,
   "id": "5d527d93",
   "metadata": {},
   "outputs": [],
   "source": []
  }
 ],
 "metadata": {
  "kernelspec": {
   "display_name": ".venv (3.12.6)",
   "language": "python",
   "name": "python3"
  },
  "language_info": {
   "codemirror_mode": {
    "name": "ipython",
    "version": 3
   },
   "file_extension": ".py",
   "mimetype": "text/x-python",
   "name": "python",
   "nbconvert_exporter": "python",
   "pygments_lexer": "ipython3",
   "version": "3.12.6"
  }
 },
 "nbformat": 4,
 "nbformat_minor": 5
}
